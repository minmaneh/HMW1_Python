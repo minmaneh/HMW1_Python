{
 "cells": [
  {
   "cell_type": "code",
   "execution_count": null,
   "metadata": {},
   "outputs": [],
   "source": [
    "# There is no need to run this chunk of code.\n",
    "import os\n",
    "wd=''\n",
    "os.chdir(wd)\n",
    "%run HW1_solutions.ipynb"
   ]
  },
  {
   "cell_type": "markdown",
   "metadata": {},
   "source": [
    "## Homework 1 Submission\n",
    "Write your name and surname below:\n",
    "<br>\n",
    "Name:\n",
    "<br>\n",
    "Surname:"
   ]
  },
  {
   "cell_type": "markdown",
   "metadata": {},
   "source": [
    "***Problem 1:*** <br> Write a program that: <br>\n",
    "a. compares the lengths of two texts given below (i.e. the number of characters in each text) <br>\n",
    "b. compares the numbers of words in each text<br>\n",
    "c. calculates the frequency of each word (the number of times the word appears in the text) in each text and puts them in a dictionary <br>\n",
    "d. prints the number of unique words used in each text as a dictionary.\n",
    "<br>\n",
    "Example 1: {\"The legth of text a\": 487,\"The legth of text b\": 562}<br>\n",
    "Example 2: Word frequency- {\"Jovi\":2,\"in\": 4}\n"
   ]
  },
  {
   "cell_type": "code",
   "execution_count": 3,
   "metadata": {},
   "outputs": [],
   "source": [
    "a = 'Bon Jovi is an American rock band formed in 1983 in Sayreville, New Jersey. \\\n",
    "It consists of singer Jon Bon Jovi, keyboardist David Bryan, drummer Tico Torres, \\\n",
    "guitarist PhilX, and bassist Hugh McDonald. Previous bassist Alec John Such was \\\n",
    "dismissed in 1994, and longtime guitarist and co-songwriter Richie Sambora left in 2013.'\n",
    "\n",
    "b = \"Ronald Wilson Reagan (/ˈreɪɡən/; February 6, 1911 – June 5, 2004) \\\n",
    "was an American politician who served as the 40th president of the United \\\n",
    "States from 1981 to 1989. Prior to his presidency, he was a Hollywood actor \\\n",
    "and union leader before serving as the 33rd governor of California from 1967 to 1975.\""
   ]
  },
  {
   "cell_type": "code",
   "execution_count": 2,
   "metadata": {},
   "outputs": [
    {
     "name": "stdout",
     "output_type": "stream",
     "text": [
      "Number of words in the string a:\n",
      "51\n",
      "Number of characters in the string a:\n",
      "326\n",
      "Number of words in the string b:\n",
      "52\n",
      "Number of characters in the string b:\n",
      "301\n",
      "-1\n",
      "{'Bon': 2, 'Jovi': 1, 'is': 1, 'an': 1, 'American': 1, 'rock': 1, 'band': 1, 'formed': 1, 'in': 4, '1983': 1, 'Sayreville,': 1, 'New': 1, 'Jersey.': 1, 'It': 1, 'consists': 1, 'of': 1, 'singer': 1, 'Jon': 1, 'Jovi,': 1, 'keyboardist': 1, 'David': 1, 'Bryan,': 1, 'drummer': 1, 'Tico': 1, 'Torres,': 1, 'guitarist': 2, 'PhilX,': 1, 'and': 3, 'bassist': 2, 'Hugh': 1, 'McDonald.': 1, 'Previous': 1, 'Alec': 1, 'John': 1, 'Such': 1, 'was': 1, 'dismissed': 1, '1994,': 1, 'longtime': 1, 'co-songwriter': 1, 'Richie': 1, 'Sambora': 1, 'left': 1, '2013.': 1}\n",
      "{'Ronald': 1, 'Wilson': 1, 'Reagan': 1, '(/ˈreɪɡən/;': 1, 'February': 1, '6,': 1, '1911': 1, '–': 1, 'June': 1, '5,': 1, '2004)': 1, 'was': 2, 'an': 1, 'American': 1, 'politician': 1, 'who': 1, 'served': 1, 'as': 2, 'the': 3, '40th': 1, 'president': 1, 'of': 2, 'United': 1, 'States': 1, 'from': 2, '1981': 1, 'to': 3, '1989.': 1, 'Prior': 1, 'his': 1, 'presidency,': 1, 'he': 1, 'a': 1, 'Hollywood': 1, 'actor': 1, 'and': 1, 'union': 1, 'leader': 1, 'before': 1, 'serving': 1, '33rd': 1, 'governor': 1, 'California': 1, '1967': 1, '1975.': 1}\n",
      "44\n",
      "45\n",
      "{'The legth of text a': 44, 'The legth of text b': 45}\n",
      "39\n",
      "39\n"
     ]
    }
   ],
   "source": [
    "###_____________Start code here_________________###\n",
    "a = \"Bon Jovi is an American rock band formed in 1983 in Sayreville, New Jersey. \\\n",
    "It consists of singer Jon Bon Jovi, keyboardist David Bryan, drummer Tico Torres, \\\n",
    "guitarist PhilX, and bassist Hugh McDonald. Previous bassist Alec John Such was \\\n",
    "dismissed in 1994, and longtime guitarist and co-songwriter Richie Sambora left in 2013.\"\n",
    "\n",
    "b = \"Ronald Wilson Reagan (/ˈreɪɡən/; February 6, 1911 – June 5, 2004) \\\n",
    "was an American politician who served as the 40th president of the United \\\n",
    "States from 1981 to 1989. Prior to his presidency, he was a Hollywood actor \\\n",
    "and union leader before serving as the 33rd governor of California from 1967 to 1975.\"\n",
    "string=a\n",
    "char=0\n",
    "word=0\n",
    "for i in string:\n",
    "    char=char+1\n",
    "    if(i==' '):\n",
    "        word=word+1\n",
    "print(\"Number of words in the string a:\")\n",
    "print(word)\n",
    "print(\"Number of characters in the string a:\")\n",
    "print(char)\n",
    "string1=b\n",
    "char=0\n",
    "word=0\n",
    "for i in string1:\n",
    "    char=char+1\n",
    "    if(i==' '):\n",
    "        word=word+1\n",
    "print(\"Number of words in the string b:\")\n",
    "print(word)\n",
    "print(\"Number of characters in the string b:\")\n",
    "print(char)\n",
    "def cmp(a,b):\n",
    "    return(a>b)-(a<b)\n",
    "d=cmp(a,b)\n",
    "print(d)\n",
    "wordlista=a.split()\n",
    "\n",
    "\n",
    "wordfreqa = {w:wordlista.count(w) for w in wordlista}\n",
    "print(wordfreqa)\n",
    "wordlistb=b.split()\n",
    "wordfreqb = {w:wordlistb.count(w) for w in wordlistb}\n",
    "print(wordfreqb)\n",
    "print(len(set(a.split())))\n",
    "print(len(set(b.split())))\n",
    "word_dict={\"The legth of text a\":len(set(a.split())) ,\"The legth of text b\":len(set(b.split()))}\n",
    "print(word_dict)\n",
    "suma=0\n",
    "for k,v in wordfreqa.items():\n",
    "    if(v==1):\n",
    "        suma=suma+1\n",
    "print(suma)\n",
    "sumb=0\n",
    "for k,v in wordfreqb.items():\n",
    "    if(v==1):\n",
    "        sumb=sumb+1\n",
    "print(sumb)\n",
    "        \n",
    "        \n",
    "###_____________End code here_________________###\n",
    "###_____________End code here_________________###"
   ]
  },
  {
   "cell_type": "code",
   "execution_count": null,
   "metadata": {},
   "outputs": [],
   "source": [
    "# There is no need to run this chunk of code.\n",
    "ex1(a,b)"
   ]
  },
  {
   "cell_type": "markdown",
   "metadata": {},
   "source": [
    "***Problem 13:*** Write a program to calculate the sum of the digits of a number  until it is a single-digit number (Example: **199** -> 1+9+9=**19** -> 1+9=**10** -> 1+0=**1**). Let the program print the result of each step (the bolded numbers in the example). Run the program for 289, 1011, 3333."
   ]
  },
  {
   "cell_type": "code",
   "execution_count": 3,
   "metadata": {},
   "outputs": [
    {
     "name": "stdout",
     "output_type": "stream",
     "text": [
      "199\n",
      "19\n",
      "10\n",
      "1\n",
      "1011\n",
      "3\n",
      "3333\n",
      "12\n",
      "3\n"
     ]
    }
   ],
   "source": [
    "###_____________Start code here_________________###\n",
    "def sum_digits(n):\n",
    "    n = str(n)\n",
    "    if int(n) < 10:\n",
    "        return n\n",
    "    else:\n",
    "        count = 0\n",
    "        for c in n:\n",
    "            count += int(c)\n",
    "        print(n)\n",
    "        return sum_digits(count)\n",
    "print(sum_digits(199))\n",
    "print(sum_digits(1011))\n",
    "print(sum_digits(3333))\n",
    "    \n",
    "###_____________End code here_________________###"
   ]
  },
  {
   "cell_type": "code",
   "execution_count": null,
   "metadata": {},
   "outputs": [],
   "source": [
    "# There is no need to run this chunk of code.\n",
    "ex13(289)\n",
    "ex13(1011)\n",
    "ex13(3333)"
   ]
  },
  {
   "cell_type": "markdown",
   "metadata": {},
   "source": [
    "***Problem 14:*** Write a program to print a chess board where **\"X\"s** are black squares and **\"O\"s** are white ones. Hint: you can use \"end\" parameter of print() function to print on the same line and separate the outputs of different prints by space or any character you want. More on this topic here: https://www.geeksforgeeks.org/gfact-50-python-end-parameter-in-print/.\n",
    "<br>The output should be like this:\n",
    "<img src=\"chess.jpg\" style=\"width: 200px;\">"
   ]
  },
  {
   "cell_type": "code",
   "execution_count": 4,
   "metadata": {},
   "outputs": [
    {
     "name": "stdout",
     "output_type": "stream",
     "text": [
      "Checkerboard pattern:\n",
      "O|X|O|X|O|X|O|X|\n",
      "X|O|X|O|X|O|X|O|\n",
      "O|X|O|X|O|X|O|X|\n",
      "X|O|X|O|X|O|X|O|\n",
      "O|X|O|X|O|X|O|X|\n",
      "X|O|X|O|X|O|X|O|\n",
      "O|X|O|X|O|X|O|X|\n",
      "X|O|X|O|X|O|X|O|\n"
     ]
    }
   ],
   "source": [
    "###_____________Start code here_________________###\n",
    "  \n",
    "import numpy as np \n",
    "\n",
    "def printcheckboard(n): \n",
    "      \n",
    "    print(\"Checkerboard pattern:\") \n",
    "   \n",
    "    x = np.zeros((n, n), dtype =str) \n",
    "    \n",
    "    x[1::2, ::2] ='X'\n",
    "    x[::2, 1::2] ='X'\n",
    "    x[0::2,::2]='O'\n",
    "    x[1::2,1::2]='O'\n",
    "      \n",
    "    \n",
    "    for i in range(n): \n",
    "        for j in range(n): \n",
    "            print(x[i][j], end = \"|\")  \n",
    "        print()  \n",
    "n = 8\n",
    "printcheckboard(n) \n",
    "\n",
    "###_____________End code here_________________###"
   ]
  },
  {
   "cell_type": "code",
   "execution_count": null,
   "metadata": {},
   "outputs": [],
   "source": [
    "# There is no need to run this chunk of code.\n",
    "ex14()"
   ]
  },
  {
   "cell_type": "code",
   "execution_count": null,
   "metadata": {},
   "outputs": [],
   "source": [
    "Problem 15: Write a program to reverse the digits of a given integer without using any built-in function or slicing. (Example: 12345 to 54321). Run the program for 4815162342."
   ]
  },
  {
   "cell_type": "code",
   "execution_count": 5,
   "metadata": {},
   "outputs": [
    {
     "name": "stdout",
     "output_type": "stream",
     "text": [
      "2432615184\n"
     ]
    }
   ],
   "source": [
    "def string(A):\n",
    "    C=''\n",
    "    B=str(A)\n",
    "    for i in B:\n",
    "        C=i+C\n",
    "    return C\n",
    "print(string(4815162342))        "
   ]
  },
  {
   "cell_type": "code",
   "execution_count": null,
   "metadata": {},
   "outputs": [],
   "source": [
    "# There is no need to run this chunk of code.\n",
    "ex15(4815162342)"
   ]
  },
  {
   "cell_type": "markdown",
   "metadata": {},
   "source": [
    "***Problem 17:*** Write a function that will find all numbers between A and B (inclusive) such that each digit of the number is even. For example foo(20,26) returns [22,24,26]. Call the function for A=40 and B=140. 0 is even number."
   ]
  },
  {
   "cell_type": "code",
   "execution_count": 6,
   "metadata": {},
   "outputs": [
    {
     "name": "stdout",
     "output_type": "stream",
     "text": [
      "40,42,44,46,48,60,62,64,66,68,80,82,84,86,88\n"
     ]
    }
   ],
   "source": [
    "###_____________Start code here_________________###\n",
    "def evennumber(A,B):\n",
    "    items=[]\n",
    "    for i in range(A,B+1):\n",
    "        s= str(i)\n",
    "        evens = 0\n",
    "        for k in s:\n",
    "            if (int(k)%2==0):\n",
    "                evens = evens + 1\n",
    "            else:\n",
    "                pass\n",
    "        if(len(s)==evens):\n",
    "            items.append(s)\n",
    "    return items\n",
    "print(\",\".join(evennumber(40,140)))\n",
    "\n",
    "###_____________End code here_________________###"
   ]
  },
  {
   "cell_type": "code",
   "execution_count": null,
   "metadata": {},
   "outputs": [],
   "source": [
    "# There is no need to run this chunk of code.\n",
    "ex17(40,140)"
   ]
  },
  {
   "cell_type": "markdown",
   "metadata": {},
   "source": [
    "***Problem 18:*** On basic cell phones numeric keypad is used to write a message. Write a function to output the numerical sequence of the keys to be pressed for any message. For instance, numerical sequence for typing \"P\" will be 7 and for \"I\" 444. Another example, the sequence for \"hello\" will be 4433555555666. Make the input text uppercase before converting to numerical sequence. Call the function for the following input **\"HI DEAR! I WILL BE LATE TODAY.\"**\n",
    "\n",
    "| Key | Symbols |\n",
    "|----|----|\n",
    "|1|. , ? ! :|\n",
    "|2|A B C|\n",
    "|3|D E F|\n",
    "|4|G H I|\n",
    "|5|J K L|\n",
    "|6|M N O|\n",
    "|7|P Q R S|\n",
    "|8|T U V|\n",
    "|9|W X Y Z|\n",
    "|0| space |\n"
   ]
  },
  {
   "cell_type": "code",
   "execution_count": 7,
   "metadata": {},
   "outputs": [
    {
     "name": "stdout",
     "output_type": "stream",
     "text": [
      "44444033327771111044409444555555022330555283308666329991\n"
     ]
    }
   ],
   "source": [
    "###_____________Start code here_________________###\n",
    "codes = {\n",
    "    '.': '1',\n",
    "    ',': '11',\n",
    "    '?': '111',\n",
    "    '!': '1111',\n",
    "    ':': '11111',\n",
    "    'A': '2',\n",
    "    'B': '22',\n",
    "    'C': '222',\n",
    "    'D': '3',\n",
    "    'E': '33',\n",
    "    'F': '333',\n",
    "    'G': '4',\n",
    "    'H': '44',\n",
    "    'I': '444',\n",
    "    'J': '5',\n",
    "    'K': '55',\n",
    "    'L': '555',\n",
    "    'M': '6',\n",
    "    'N': '66',\n",
    "    'O': '666',\n",
    "    'P': '7',\n",
    "    'Q': '77',\n",
    "    'R': '777',\n",
    "    'S': '7777',\n",
    "    'T': '8',\n",
    "    'U': '88',\n",
    "    'V': '888',\n",
    "    'W': '9',\n",
    "    'X': '99',\n",
    "    'Y': '999',\n",
    "    'Z': '9999',\n",
    "    ' ': '0',\n",
    "}\n",
    "def numberstring(S):\n",
    "    string=\"\"\n",
    "    string.upper()\n",
    "    for i in S:\n",
    "        if(i in codes):\n",
    "            string=string+codes[i]\n",
    "    return string\n",
    "print(numberstring(\"HI DEAR! I WILL BE LATE TODAY.\"))\n",
    "\n",
    "###_____________End code here_________________###"
   ]
  },
  {
   "cell_type": "code",
   "execution_count": null,
   "metadata": {},
   "outputs": [],
   "source": [
    "# There is no need to run this chunk of code.\n",
    "print(ex18(\"HI DEAR! I WILL BE LATE TODAY.\"))"
   ]
  },
  {
   "cell_type": "markdown",
   "metadata": {},
   "source": [
    "***Problem 20:*** Write a program that accepts a sentence and prints the number of letters and digits in it. Run the program for \"1, 2, 3, 4... Let's run the code!\" "
   ]
  },
  {
   "cell_type": "code",
   "execution_count": 16,
   "metadata": {},
   "outputs": [],
   "source": [
    "###_____________Start code here_________________###\n",
    "def ex20(s):\n",
    "    d={\"DIGITS\":0, \"LETTERS\":0}\n",
    "    for c in s:\n",
    "        if c.isdigit():\n",
    "            d[\"DIGITS\"]+=1\n",
    "        elif c.isalpha():\n",
    "            d[\"LETTERS\"]+=1\n",
    "        else:\n",
    "            pass\n",
    "    return d\n",
    "d = ex20(\"1, 2, 3, 4... Let's run the code!\")\n",
    "print(\"LETTERS\", d[\"LETTERS\"])\n",
    "print (\"DIGITS\", d[\"DIGITS\"])\n",
    "\n",
    "###_____________End code here_________________###"
   ]
  },
  {
   "cell_type": "code",
   "execution_count": null,
   "metadata": {},
   "outputs": [],
   "source": [
    "# There is no need to run this chunk of code.\n",
    "ex20(\"1, 2, 3, 4... Let's run the code!\")"
   ]
  },
  {
   "cell_type": "markdown",
   "metadata": {},
   "source": [
    "***Problem 22:*** Two people throw two six-sided fair dices each. The one with greater sum wins, and if the sum is equal, they draw. Write a program that simulates the game and plays 100 time. Print the number of wins of Player 1, Player 2 and draws."
   ]
  },
  {
   "cell_type": "code",
   "execution_count": 18,
   "metadata": {},
   "outputs": [],
   "source": [
    "###_____________Start code here_________________###\n",
    "Winplayer1=0\n",
    "Winplayer2=0\n",
    "Draw=0\n",
    "import random\n",
    "for i in range(0,100):\n",
    "    Player1=random.randint(1,6)+random.randint(1,6)\n",
    "    Player2=random.randint(1,6)+random.randint(1,6)\n",
    "    if(Player1>Player2):\n",
    "        Winplayer1=Winplayer1+1\n",
    "    elif(Player1<Player2):\n",
    "        Winplayer2=Winplayer2+1\n",
    "    else:\n",
    "        Draw=Draw+1\n",
    "print(Winplayer1)\n",
    "print(Winplayer2)\n",
    "print(Draw)\n",
    "###_____________End code here_________________###"
   ]
  },
  {
   "cell_type": "code",
   "execution_count": null,
   "metadata": {},
   "outputs": [],
   "source": [
    "# There is no need to run this chunk of code.\n",
    "ex22()"
   ]
  },
  {
   "cell_type": "markdown",
   "metadata": {},
   "source": [
    "***Problem 23:*** Write a program that randomly generates a nine-character password. First 3 characters must be from the set \"let\", second 3 characters from the set \"num\", last three ones from the set \"sym\". Set seed() to 42 and generate a password."
   ]
  },
  {
   "cell_type": "code",
   "execution_count": 20,
   "metadata": {},
   "outputs": [],
   "source": [
    "let = {'A','B','C','a','b','c'}\n",
    "num = {1,2,3,4,5,6}\n",
    "sym = {'!','@','#','$','%','^'}"
   ]
  },
  {
   "cell_type": "code",
   "execution_count": 21,
   "metadata": {},
   "outputs": [],
   "source": [
    "###_____________Start code here_________________###\n",
    "\n",
    "let = {'A','B','C','a','b','c'}\n",
    "num = {1,2,3,4,5,6}\n",
    "sym = {'!','@','#','$','%','^'}\n",
    "a=list(let)\n",
    "b=list(num)\n",
    "c=list(sym)\n",
    "import random\n",
    "random.seed(42)\n",
    "password=\"\"\n",
    "for m in range(0,9):\n",
    "        if (m<=2):\n",
    "            password=password+(random.choice(a))\n",
    "        elif(m>2) and (m<=5):\n",
    "            password=password+str(random.choice(b))\n",
    "        elif(m>5) and (m<=8):\n",
    "            password=password+(random.choice(c))\n",
    "print(password)\n",
    "\n",
    "###_____________End code here_________________###"
   ]
  },
  {
   "cell_type": "code",
   "execution_count": null,
   "metadata": {},
   "outputs": [],
   "source": [
    "# There is no need to run this chunk of code.\n",
    "ex23()"
   ]
  },
  {
   "cell_type": "markdown",
   "metadata": {},
   "source": [
    "\n",
    "***Problem 24:*** Write a program to find all the numbers divisible by 6 but not a multiple of 5 between 100 and 500 (inclusive). Print the numbers as a comma-separated string."
   ]
  },
  {
   "cell_type": "code",
   "execution_count": 8,
   "metadata": {},
   "outputs": [
    {
     "name": "stdout",
     "output_type": "stream",
     "text": [
      "102,108,114,126,132,138,144,156,162,168,174,186,192,198,204,216,222,228,234,246,252,258,264,276,282,288,294,306,312,318,324,336,342,348,354,366,372,378,384,396,402,408,414,426,432,438,444,456,462,468,474,486,492,498\n"
     ]
    }
   ],
   "source": [
    "###_____________Start code here_________________###\n",
    "l=[]\n",
    "for i in range (100,500):\n",
    "    if(i%6==0) and (i%5!=0):\n",
    "        l.append(str(i))\n",
    "print(\",\".join(l))\n",
    "\n",
    "###_____________End code here_________________###"
   ]
  },
  {
   "cell_type": "code",
   "execution_count": null,
   "metadata": {},
   "outputs": [],
   "source": [
    "# There is no need to run this chunk of code.\n",
    "ex24()"
   ]
  },
  {
   "cell_type": "markdown",
   "metadata": {},
   "source": [
    "***Example 25:*** Write a program that converts \"firstname lastname\" to \"lastname, firstname\", using list comprehensions."
   ]
  },
  {
   "cell_type": "code",
   "execution_count": 25,
   "metadata": {},
   "outputs": [],
   "source": [
    "ls = ['Հրաչյա Վարդանյան', 'Անուշ Կարապետյան', 'Գոռ Անտոնյան', 'Տաթեւ Հարությունյան', 'Mary Sargsyan']"
   ]
  },
  {
   "cell_type": "code",
   "execution_count": 9,
   "metadata": {},
   "outputs": [
    {
     "name": "stdout",
     "output_type": "stream",
     "text": [
      "['Վարդանյան Հրաչյա', 'Կարապետյան Անուշ', 'Անտոնյան Գոռ', 'Հարությունյան Տաթեւ', 'Sargsyan Mary']\n"
     ]
    }
   ],
   "source": [
    "###_____________Start code here_________________###\n",
    "ls = ['Հրաչյա Վարդանյան', 'Անուշ Կարապետյան', 'Գոռ Անտոնյան', 'Տաթեւ Հարությունյան', 'Mary Sargsyan']\n",
    "ls2=[]\n",
    "for i in ls:\n",
    "    m=i.split()\n",
    "    ls2.append(m[1] + \" \" +m[0])\n",
    "print(ls2)\n",
    "###_____________End code here_________________###"
   ]
  },
  {
   "cell_type": "code",
   "execution_count": null,
   "metadata": {},
   "outputs": [],
   "source": [
    "# There is no need to run this chunk of code.\n",
    "ex25(ls)"
   ]
  },
  {
   "cell_type": "markdown",
   "metadata": {},
   "source": [
    "***Problem 27:*** Write a function to devide an input list of ages between 0 and 70 into 4 groups.<br><br>\n",
    "Baby Boomers  - (50 to 70 years old]<br>\n",
    "Generation X - (34 to 50 years old]<br>\n",
    "Generation Y - (18 to 34 years old]<br>\n",
    "Generation Z - [0 to 18 years old]<br>\n",
    "\n",
    "Return a dictionary with the following structure:\n",
    "{'Group 1':[ages],'Group 2':[ages],'Group 3':[ages],'Group 4':[ages]}"
   ]
  },
  {
   "cell_type": "code",
   "execution_count": 11,
   "metadata": {},
   "outputs": [
    {
     "name": "stdout",
     "output_type": "stream",
     "text": [
      "{'Generation Z ': [18, 3, 14, 10, 1, 5], 'Generation Y ': [29, 23, 24], 'Generation X': [], 'Baby Boomers': [69, 58, 52, 65]}\n"
     ]
    }
   ],
   "source": [
    "ls = [18,29,3,14,69,10,1,58,52,23,24,5,65]\n",
    "###_____________Start code here_________________###\n",
    "newdict={\"Generation Z \":[],\"Generation Y \":[],\"Generation X\":[],\"Baby Boomers\":[]}\n",
    "for i in ls:\n",
    "    if (i <=18) and (i >=0) and i not in newdict:\n",
    "        newdict[\"Generation Z \"].append(i)\n",
    "    elif(i <= 34) and (i>18):\n",
    "        newdict[\"Generation Y \"].append(i)\n",
    "    elif(i<=50) and (i>34):\n",
    "        newdict[\"Generation X\"].append(i)\n",
    "    elif(i<=70) and (i>50):\n",
    "        newdict[\"Baby Boomers\"].append(i)\n",
    "    else:\n",
    "        pass\n",
    "print(newdict)\n",
    "###_____________End code here_________________###"
   ]
  },
  {
   "cell_type": "code",
   "execution_count": null,
   "metadata": {},
   "outputs": [],
   "source": [
    "# There is no need to run this chunk of code.\n",
    "ex27(ls)"
   ]
  }
 ],
 "metadata": {
  "kernelspec": {
   "display_name": "Python 3",
   "language": "python",
   "name": "python3"
  },
  "language_info": {
   "codemirror_mode": {
    "name": "ipython",
    "version": 3
   },
   "file_extension": ".py",
   "mimetype": "text/x-python",
   "name": "python",
   "nbconvert_exporter": "python",
   "pygments_lexer": "ipython3",
   "version": "3.7.1"
  }
 },
 "nbformat": 4,
 "nbformat_minor": 2
}
